{
 "cells": [
  {
   "cell_type": "markdown",
   "id": "c60b4376-cd44-416c-aea0-0c59f7f91d72",
   "metadata": {},
   "source": [
    "## udf 등록 및 SQL 처리"
   ]
  },
  {
   "cell_type": "code",
   "execution_count": 6,
   "id": "aed35361-7adc-49a4-937a-62b7756e975b",
   "metadata": {},
   "outputs": [],
   "source": [
    "# SparkSession 설정\n",
    "from pyspark.sql import SparkSession\n",
    "\n",
    "spark = SparkSession.builder.master('local').appName('udf').getOrCreate()"
   ]
  },
  {
   "cell_type": "code",
   "execution_count": 37,
   "id": "2f14f85e-5b5a-46ce-b4bb-e7e5312a5cba",
   "metadata": {},
   "outputs": [],
   "source": [
    "# 샘플 데이터 : name(이름)과 age(나이)\n",
    "Age_category = [\n",
    "    ('박창준', 70),\n",
    "    ('최태용', 40),\n",
    "    ('김보경', 38),\n",
    "    ('이준석', 22),\n",
    "    ('전수복', 24),\n",
    "    ('정민영', 16),\n",
    "    ('박준호', 82),\n",
    "    ('김호진', 56),\n",
    "    ('박윤철', 60),\n",
    "    ('유재정', 58)\n",
    "]"
   ]
  },
  {
   "cell_type": "code",
   "execution_count": 38,
   "id": "e6b0b0bb-1c3a-46cf-965b-efe61bece502",
   "metadata": {},
   "outputs": [],
   "source": [
    "# 스키마 정의\n",
    "schema = ['name', 'age']"
   ]
  },
  {
   "cell_type": "code",
   "execution_count": 39,
   "id": "7b538433-f118-4f4c-a65b-9de67c018767",
   "metadata": {},
   "outputs": [],
   "source": [
    "# 데이터프레임 생성\n",
    "df = spark.createDataFrame(data = Age_category, schema = schema)"
   ]
  },
  {
   "cell_type": "code",
   "execution_count": 40,
   "id": "b9e568b8-f1dd-45c8-89ab-601b0593782e",
   "metadata": {},
   "outputs": [
    {
     "name": "stdout",
     "output_type": "stream",
     "text": [
      "+------+---+\n",
      "|  name|age|\n",
      "+------+---+\n",
      "|박창준| 70|\n",
      "|최태용| 40|\n",
      "|김보경| 38|\n",
      "|이준석| 22|\n",
      "|전수복| 24|\n",
      "|정민영| 16|\n",
      "|박준호| 82|\n",
      "|김호진| 56|\n",
      "|박윤철| 60|\n",
      "|유재정| 58|\n",
      "+------+---+\n",
      "\n"
     ]
    }
   ],
   "source": [
    "# 데이터프레임 출력\n",
    "df.show()"
   ]
  },
  {
   "cell_type": "code",
   "execution_count": 41,
   "id": "64fe8ad5-1fb2-4f10-b1e7-42adfd26e461",
   "metadata": {},
   "outputs": [
    {
     "name": "stdout",
     "output_type": "stream",
     "text": [
      "root\n",
      " |-- name: string (nullable = true)\n",
      " |-- age: long (nullable = true)\n",
      "\n"
     ]
    }
   ],
   "source": [
    "# 데이터프레임 스키마 출력\n",
    "df.printSchema()"
   ]
  },
  {
   "cell_type": "code",
   "execution_count": 42,
   "id": "d1d6f09b-52d6-4c61-a5df-a8ee053dba1e",
   "metadata": {},
   "outputs": [],
   "source": [
    "# Temporary View 생성\n",
    "df.createOrReplaceTempView('Age_category')"
   ]
  },
  {
   "cell_type": "code",
   "execution_count": 43,
   "id": "12a27854-2dbc-4e13-92fa-3e2cab491791",
   "metadata": {},
   "outputs": [],
   "source": [
    "# UDF : 나이 별로 분류\n",
    "\"\"\"\n",
    "- age가 35살 미만 : 'young'\n",
    "- age가 35살-59살: 'adult'\n",
    "- age가 60살 이상 : 'senior'\n",
    "\"\"\"\n",
    "def age_category(age):\n",
    "    if age < 35:\n",
    "        return 'young'\n",
    "    elif 35 <= age <= 59:\n",
    "        return 'adult'\n",
    "    elif age >= 60:\n",
    "        return 'senior'"
   ]
  },
  {
   "cell_type": "code",
   "execution_count": 44,
   "id": "33fbe638-8b38-4d3b-a2c6-4451135cf117",
   "metadata": {},
   "outputs": [
    {
     "data": {
      "text/plain": [
       "<function __main__.age_category(age)>"
      ]
     },
     "execution_count": 44,
     "metadata": {},
     "output_type": "execute_result"
    }
   ],
   "source": [
    "# UDF 등록\n",
    "spark.udf.register('age_category', age_category)"
   ]
  },
  {
   "cell_type": "code",
   "execution_count": 45,
   "id": "ba3e7867-4637-4204-880f-e2cd907de53b",
   "metadata": {},
   "outputs": [
    {
     "name": "stdout",
     "output_type": "stream",
     "text": [
      "+------+---+\n",
      "|  name|age|\n",
      "+------+---+\n",
      "|박창준| 70|\n",
      "|최태용| 40|\n",
      "|김보경| 38|\n",
      "|이준석| 22|\n",
      "|전수복| 24|\n",
      "|정민영| 16|\n",
      "|박준호| 82|\n",
      "|김호진| 56|\n",
      "|박윤철| 60|\n",
      "|유재정| 58|\n",
      "+------+---+\n",
      "\n"
     ]
    }
   ],
   "source": [
    "# 데이터프레임 출력 결과를 다시 한번 확인하고 밑에 SQL문 작성하기\n",
    "df.show()"
   ]
  },
  {
   "cell_type": "code",
   "execution_count": 46,
   "id": "fe6190ab-0574-470e-8510-413116749602",
   "metadata": {},
   "outputs": [
    {
     "name": "stdout",
     "output_type": "stream",
     "text": [
      "+------+------------+\n",
      "|  name|age_category|\n",
      "+------+------------+\n",
      "|박창준|      senior|\n",
      "|최태용|       adult|\n",
      "|김보경|       adult|\n",
      "|이준석|       young|\n",
      "|전수복|       young|\n",
      "|정민영|       young|\n",
      "|박준호|      senior|\n",
      "|김호진|       adult|\n",
      "|박윤철|      senior|\n",
      "|유재정|       adult|\n",
      "+------+------------+\n",
      "\n"
     ]
    }
   ],
   "source": [
    "# SQL문 처리\n",
    "spark.sql(\"SELECT name, age_category(age) AS age_category FROM Age_category\").show()"
   ]
  }
 ],
 "metadata": {
  "kernelspec": {
   "display_name": "Python 3 (ipykernel)",
   "language": "python",
   "name": "python3"
  },
  "language_info": {
   "codemirror_mode": {
    "name": "ipython",
    "version": 3
   },
   "file_extension": ".py",
   "mimetype": "text/x-python",
   "name": "python",
   "nbconvert_exporter": "python",
   "pygments_lexer": "ipython3",
   "version": "3.10.9"
  }
 },
 "nbformat": 4,
 "nbformat_minor": 5
}
